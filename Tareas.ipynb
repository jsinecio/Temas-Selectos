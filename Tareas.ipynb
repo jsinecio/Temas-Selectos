{
 "cells": [
  {
   "cell_type": "markdown",
   "metadata": {
    "vscode": {
     "languageId": "sql"
    }
   },
   "source": [
    "# Tarea 1"
   ]
  },
  {
   "cell_type": "markdown",
   "metadata": {},
   "source": [
    "List all the Canadian cities and their populations"
   ]
  },
  {
   "cell_type": "code",
   "execution_count": null,
   "metadata": {
    "vscode": {
     "languageId": "sql"
    }
   },
   "outputs": [],
   "source": [
    "SELECT \n",
    "    city,\n",
    "    population\n",
    "FROM North_american_cities\n",
    "WHERE Country = 'Canada'"
   ]
  },
  {
   "cell_type": "markdown",
   "metadata": {},
   "source": [
    "Order all the cities in the United States by their latitude from north to south"
   ]
  },
  {
   "cell_type": "code",
   "execution_count": null,
   "metadata": {
    "vscode": {
     "languageId": "sql"
    }
   },
   "outputs": [],
   "source": [
    "SELECT city\n",
    "FROM north_american_cities\n",
    "WHERE Country = 'United States'\n",
    "ORDER BY latitude DESC"
   ]
  },
  {
   "cell_type": "markdown",
   "metadata": {},
   "source": [
    "List all the cities west of Chicago, ordered from west to east"
   ]
  },
  {
   "cell_type": "code",
   "execution_count": null,
   "metadata": {
    "vscode": {
     "languageId": "sql"
    }
   },
   "outputs": [],
   "source": [
    "SELECT city\n",
    "FROM north_american_cities\n",
    "WHERE longitude < (SELECT longitude \n",
    "                   FROM north_american_cities \n",
    "                   WHERE city = 'Chicago')\n",
    "ORDER BY longitude ASC"
   ]
  },
  {
   "cell_type": "markdown",
   "metadata": {},
   "source": [
    "List the two largest cities in Mexico (by population)"
   ]
  },
  {
   "cell_type": "code",
   "execution_count": null,
   "metadata": {
    "vscode": {
     "languageId": "sql"
    }
   },
   "outputs": [],
   "source": [
    "SELECT city\n",
    "FROM north_american_cities\n",
    "WHERE Country = 'Mexico'\n",
    "ORDER BY Population DESC\n",
    "LIMIT 2"
   ]
  },
  {
   "cell_type": "markdown",
   "metadata": {},
   "source": [
    "List the third and fourth largest cities (by population) in the United States and their population"
   ]
  },
  {
   "cell_type": "code",
   "execution_count": null,
   "metadata": {
    "vscode": {
     "languageId": "sql"
    }
   },
   "outputs": [],
   "source": [
    "SELECT city\n",
    "FROM north_american_cities\n",
    "WHERE Country = 'United States'\n",
    "ORDER BY Population DESC\n",
    "LIMIT 2 OFFSET 2"
   ]
  }
 ],
 "metadata": {
  "language_info": {
   "name": "python"
  }
 },
 "nbformat": 4,
 "nbformat_minor": 2
}
